{
 "cells": [
  {
   "cell_type": "code",
   "execution_count": 11,
   "metadata": {
    "collapsed": false
   },
   "outputs": [],
   "source": [
    "import statistics\n",
    "import matplotlib.pyplot as plt\n",
    "import random\n",
    "import math"
   ]
  },
  {
   "cell_type": "code",
   "execution_count": 12,
   "metadata": {
    "collapsed": true
   },
   "outputs": [],
   "source": [
    "%matplotlib inline"
   ]
  },
  {
   "cell_type": "code",
   "execution_count": 13,
   "metadata": {
    "collapsed": false
   },
   "outputs": [],
   "source": [
    "class Player:\n",
    " \n",
    "    def __init__(self, score):\n",
    "        self.score = score\n",
    "    \n",
    "    def reset(self):\n",
    "        self.points = 0\n",
    "        self.roll = 0\n",
    "    \n",
    "    def should_roll_again(self, roll):\n",
    "        return False\n",
    "        \n",
    "    def roll_die():\n",
    "        return random.randint(1,6)\n",
    "    \n",
    "    \n",
    "       \n",
    "\n",
    "    \n",
    "class KindaCautiousPlayer(Player):\n",
    "    # You only need to roll \n",
    "    def _init_(self, score):\n",
    "        super()._init_(score)\n",
    "    \n",
    "    def should_roll_again(self):\n",
    "        if self.roll <= 2:\n",
    "            return True\n",
    "        else:\n",
    "            return False\n",
    "\n",
    "\n",
    "class SuperCautiousPlayer(Player):\n",
    "    def _init_(self, score):\n",
    "        super()._init_(score)\n",
    "        \n",
    "    def should_roll_again(self):\n",
    "        if self.roll <= 1:\n",
    "            return True\n",
    "        else:\n",
    "            return False\n",
    "\n",
    "class AgressivePlayer(Player):\n",
    "    def _init_(self, score):\n",
    "        super()._init_(score)\n",
    "        \n",
    "    def should_roll_again(self):\n",
    "        if self.roll <= 7:\n",
    "            return True\n",
    "        else:\n",
    "            return False\n",
    "    "
   ]
  },
  {
   "cell_type": "code",
   "execution_count": 14,
   "metadata": {
    "collapsed": false
   },
   "outputs": [],
   "source": [
    "class Pig_Game:\n",
    "    def __init__(self, Player1):\n",
    "        self.Player1 = Player1\n",
    "        \n",
    "    \n",
    "    def reset(self):\n",
    "        self.score = 0\n",
    "   \n",
    "    def play_game(self):\n",
    "        for x in range(7):\n",
    "            print(\"This is turn {}\".format(x))\n",
    "            roll_num = 0\n",
    "            turn_score = 0\n",
    "            while roll_num >= 1: \n",
    "                print(\"this is roll_num {}\".format(roll_num))\n",
    "                roll_num = self.player1.roll_die()\n",
    "                if roll_num >= 1:\n",
    "                    score += roll_num\n",
    "                else:\n",
    "                    continue\n",
    "                if self.player1.should_roll_again(roll) == False:\n",
    "                    self.score += turn_score\n",
    "                    break\n",
    "        \n",
    "        return self.score       \n",
    "\n",
    "    \n",
    "     \n",
    "\n"
   ]
  },
  {
   "cell_type": "code",
   "execution_count": 15,
   "metadata": {
    "collapsed": false
   },
   "outputs": [
    {
     "name": "stdout",
     "output_type": "stream",
     "text": [
      "This is turn 0\n",
      "This is turn 1\n",
      "This is turn 2\n",
      "This is turn 3\n",
      "This is turn 4\n",
      "This is turn 5\n",
      "This is turn 6\n",
      "This is turn 0\n",
      "This is turn 1\n",
      "This is turn 2\n",
      "This is turn 3\n",
      "This is turn 4\n",
      "This is turn 5\n",
      "This is turn 6\n"
     ]
    },
    {
     "ename": "AttributeError",
     "evalue": "'Pig_Game' object has no attribute 'score'",
     "output_type": "error",
     "traceback": [
      "\u001b[0;31m---------------------------------------------------------------------------\u001b[0m",
      "\u001b[0;31mAttributeError\u001b[0m                            Traceback (most recent call last)",
      "\u001b[0;32m<ipython-input-15-5a58541220e5>\u001b[0m in \u001b[0;36m<module>\u001b[0;34m()\u001b[0m\n\u001b[1;32m      1\u001b[0m \u001b[0mjoe\u001b[0m \u001b[0;34m=\u001b[0m \u001b[0mKindaCautiousPlayer\u001b[0m\u001b[0;34m(\u001b[0m\u001b[0;36m0\u001b[0m\u001b[0;34m)\u001b[0m\u001b[0;34m\u001b[0m\u001b[0m\n\u001b[1;32m      2\u001b[0m \u001b[0mgamex\u001b[0m \u001b[0;34m=\u001b[0m \u001b[0mPig_Game\u001b[0m\u001b[0;34m(\u001b[0m\u001b[0mjoe\u001b[0m\u001b[0;34m)\u001b[0m\u001b[0;34m\u001b[0m\u001b[0m\n\u001b[0;32m----> 3\u001b[0;31m \u001b[0mgamex\u001b[0m\u001b[0;34m.\u001b[0m\u001b[0mplay_game\u001b[0m\u001b[0;34m(\u001b[0m\u001b[0;34m)\u001b[0m\u001b[0;34m\u001b[0m\u001b[0m\n\u001b[0m\u001b[1;32m      4\u001b[0m \u001b[0;34m\u001b[0m\u001b[0m\n",
      "\u001b[0;32m<ipython-input-14-9706b4279ac6>\u001b[0m in \u001b[0;36mplay_game\u001b[0;34m(self)\u001b[0m\n\u001b[1;32m     23\u001b[0m                     \u001b[0;32mbreak\u001b[0m\u001b[0;34m\u001b[0m\u001b[0m\n\u001b[1;32m     24\u001b[0m \u001b[0;34m\u001b[0m\u001b[0m\n\u001b[0;32m---> 25\u001b[0;31m         \u001b[0;32mreturn\u001b[0m \u001b[0mself\u001b[0m\u001b[0;34m.\u001b[0m\u001b[0mscore\u001b[0m\u001b[0;34m\u001b[0m\u001b[0m\n\u001b[0m\u001b[1;32m     26\u001b[0m \u001b[0;34m\u001b[0m\u001b[0m\n\u001b[1;32m     27\u001b[0m \u001b[0;34m\u001b[0m\u001b[0m\n",
      "\u001b[0;31mAttributeError\u001b[0m: 'Pig_Game' object has no attribute 'score'"
     ]
    },
    {
     "ename": "AttributeError",
     "evalue": "'Pig_Game' object has no attribute 'score'",
     "output_type": "error",
     "traceback": [
      "\u001b[0;31m---------------------------------------------------------------------------\u001b[0m",
      "\u001b[0;31mAttributeError\u001b[0m                            Traceback (most recent call last)",
      "\u001b[0;32m<ipython-input-15-5a58541220e5>\u001b[0m in \u001b[0;36m<module>\u001b[0;34m()\u001b[0m\n\u001b[1;32m      1\u001b[0m \u001b[0mjoe\u001b[0m \u001b[0;34m=\u001b[0m \u001b[0mKindaCautiousPlayer\u001b[0m\u001b[0;34m(\u001b[0m\u001b[0;36m0\u001b[0m\u001b[0;34m)\u001b[0m\u001b[0;34m\u001b[0m\u001b[0m\n\u001b[1;32m      2\u001b[0m \u001b[0mgamex\u001b[0m \u001b[0;34m=\u001b[0m \u001b[0mPig_Game\u001b[0m\u001b[0;34m(\u001b[0m\u001b[0mjoe\u001b[0m\u001b[0;34m)\u001b[0m\u001b[0;34m\u001b[0m\u001b[0m\n\u001b[0;32m----> 3\u001b[0;31m \u001b[0mgamex\u001b[0m\u001b[0;34m.\u001b[0m\u001b[0mplay_game\u001b[0m\u001b[0;34m(\u001b[0m\u001b[0;34m)\u001b[0m\u001b[0;34m\u001b[0m\u001b[0m\n\u001b[0m\u001b[1;32m      4\u001b[0m \u001b[0;34m\u001b[0m\u001b[0m\n",
      "\u001b[0;32m<ipython-input-14-9706b4279ac6>\u001b[0m in \u001b[0;36mplay_game\u001b[0;34m(self)\u001b[0m\n\u001b[1;32m     23\u001b[0m                     \u001b[0;32mbreak\u001b[0m\u001b[0;34m\u001b[0m\u001b[0m\n\u001b[1;32m     24\u001b[0m \u001b[0;34m\u001b[0m\u001b[0m\n\u001b[0;32m---> 25\u001b[0;31m         \u001b[0;32mreturn\u001b[0m \u001b[0mself\u001b[0m\u001b[0;34m.\u001b[0m\u001b[0mscore\u001b[0m\u001b[0;34m\u001b[0m\u001b[0m\n\u001b[0m\u001b[1;32m     26\u001b[0m \u001b[0;34m\u001b[0m\u001b[0m\n\u001b[1;32m     27\u001b[0m \u001b[0;34m\u001b[0m\u001b[0m\n",
      "\u001b[0;31mAttributeError\u001b[0m: 'Pig_Game' object has no attribute 'score'"
     ]
    }
   ],
   "source": [
    "joe = KindaCautiousPlayer(0)\n",
    "gamex = Pig_Game(joe)\n",
    "gamex.play_game()\n",
    "\n"
   ]
  },
  {
   "cell_type": "raw",
   "metadata": {
    "collapsed": false
   },
   "source": []
  },
  {
   "cell_type": "code",
   "execution_count": null,
   "metadata": {
    "collapsed": false
   },
   "outputs": [],
   "source": [
    "\n"
   ]
  },
  {
   "cell_type": "code",
   "execution_count": null,
   "metadata": {
    "collapsed": true
   },
   "outputs": [],
   "source": []
  },
  {
   "cell_type": "code",
   "execution_count": null,
   "metadata": {
    "collapsed": true
   },
   "outputs": [],
   "source": []
  }
 ],
 "metadata": {
  "kernelspec": {
   "display_name": "Python 3",
   "language": "python",
   "name": "python3"
  },
  "language_info": {
   "codemirror_mode": {
    "name": "ipython",
    "version": 3
   },
   "file_extension": ".py",
   "mimetype": "text/x-python",
   "name": "python",
   "nbconvert_exporter": "python",
   "pygments_lexer": "ipython3",
   "version": "3.4.3"
  }
 },
 "nbformat": 4,
 "nbformat_minor": 0
}
